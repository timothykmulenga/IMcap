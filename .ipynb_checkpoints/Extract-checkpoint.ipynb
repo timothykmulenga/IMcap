{
 "cells": [
  {
   "cell_type": "code",
   "execution_count": 0,
   "metadata": {
    "colab": {},
    "colab_type": "code",
    "id": "kEnnziC6xomH"
   },
   "outputs": [],
   "source": [
    "import tarfile"
   ]
  },
  {
   "cell_type": "code",
   "execution_count": 0,
   "metadata": {
    "colab": {},
    "colab_type": "code",
    "id": "A4i28Snd456j"
   },
   "outputs": [],
   "source": [
    "with tarfile.open('/ImageCap/misc/flickr30k_images.tar.gz', 'r') as f:\n",
    "  f.extractall('/ImageCap/imagesB/')"
   ]
  },
  {
   "cell_type": "code",
   "execution_count": 0,
   "metadata": {
    "colab": {
     "base_uri": "https://localhost:8080/",
     "height": 34
    },
    "colab_type": "code",
    "id": "FNo-apEa46HU",
    "outputId": "38aa3226-95be-4bdb-ef70-4349b6d62111"
   },
   "outputs": [
    {
     "data": {
      "text/plain": [
       "31784"
      ]
     },
     "execution_count": 5,
     "metadata": {
      "tags": []
     },
     "output_type": "execute_result"
    }
   ],
   "source": [
    "import os, os.path\n",
    "path = '/ImageCap/imagesB/flickr30k-images'\n",
    "\n",
    "\n",
    "#Ensuring that all the 31784 images have been successfuly extracted (such sanity checks are neccesary\n",
    "#when working on colab-gdrive duo)\n",
    "num_files = len([f for f in os.listdir(path)if os.path.isfile(os.path.join(path, f))])\n",
    "num_files"
   ]
  }
 ],
 "metadata": {
  "accelerator": "GPU",
  "colab": {
   "collapsed_sections": [],
   "name": "Extract.ipynb",
   "provenance": []
  },
  "kernelspec": {
   "display_name": "Python 3",
   "language": "python",
   "name": "python3"
  },
  "language_info": {
   "codemirror_mode": {
    "name": "ipython",
    "version": 3
   },
   "file_extension": ".py",
   "mimetype": "text/x-python",
   "name": "python",
   "nbconvert_exporter": "python",
   "pygments_lexer": "ipython3",
   "version": "3.7.1"
  }
 },
 "nbformat": 4,
 "nbformat_minor": 1
}
